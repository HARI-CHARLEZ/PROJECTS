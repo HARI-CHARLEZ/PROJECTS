{
 "cells": [
  {
   "cell_type": "code",
   "execution_count": 9,
   "id": "56630808-141d-4061-bb86-8f186cfc9917",
   "metadata": {},
   "outputs": [
    {
     "ename": "AttributeError",
     "evalue": "'str' object has no attribute 'content'",
     "output_type": "error",
     "traceback": [
      "\u001b[1;31m---------------------------------------------------------------------------\u001b[0m",
      "\u001b[1;31mAttributeError\u001b[0m                            Traceback (most recent call last)",
      "Cell \u001b[1;32mIn[9], line 6\u001b[0m\n\u001b[0;32m      3\u001b[0m \u001b[38;5;28;01mimport\u001b[39;00m \u001b[38;5;21;01mpandas\u001b[39;00m \u001b[38;5;28;01mas\u001b[39;00m \u001b[38;5;21;01mpd\u001b[39;00m\n\u001b[0;32m      5\u001b[0m URL \u001b[38;5;241m=\u001b[39m requests\u001b[38;5;241m.\u001b[39mget(\u001b[38;5;124m'\u001b[39m\u001b[38;5;124mhttps://www.timesjobs.com/candidate/job-search.html?searchType=personalizedSearch&from=submit&searchTextSrc=ft&searchTextText=&txtKeywords=machine+learning&txtLocation=\u001b[39m\u001b[38;5;124m'\u001b[39m)\u001b[38;5;241m.\u001b[39mtext\n\u001b[1;32m----> 6\u001b[0m soup \u001b[38;5;241m=\u001b[39m BeautifulSoup(URL\u001b[38;5;241m.\u001b[39mcontent,\u001b[38;5;124m'\u001b[39m\u001b[38;5;124mhtml.parser\u001b[39m\u001b[38;5;124m'\u001b[39m)\n\u001b[0;32m      8\u001b[0m jobs \u001b[38;5;241m=\u001b[39m soup\u001b[38;5;241m.\u001b[39mfind_all(\u001b[38;5;124m'\u001b[39m\u001b[38;5;124mli\u001b[39m\u001b[38;5;124m'\u001b[39m, class_ \u001b[38;5;241m=\u001b[39m \u001b[38;5;124m'\u001b[39m\u001b[38;5;124mclearfix job-bx wht-shd-bx\u001b[39m\u001b[38;5;124m'\u001b[39m)\n\u001b[0;32m      9\u001b[0m \u001b[38;5;28;01mfor\u001b[39;00m job \u001b[38;5;129;01min\u001b[39;00m jobs:\n\u001b[0;32m     10\u001b[0m     \u001b[38;5;66;03m#job_name = job.find('strong' , class_ = 'blkclor').text\u001b[39;00m\n",
      "\u001b[1;31mAttributeError\u001b[0m: 'str' object has no attribute 'content'"
     ]
    }
   ],
   "source": [
    "from bs4 import BeautifulSoup\n",
    "import requests\n",
    "import pandas as pd\n",
    "\n",
    "URL = requests.get('https://www.timesjobs.com/candidate/job-search.html?searchType=personalizedSearch&from=submit&searchTextSrc=ft&searchTextText=&txtKeywords=machine+learning&txtLocation=').text\n",
    "soup = BeautifulSoup(URL.content,'html.parser')\n",
    "\n",
    "jobs = soup.find_all('li', class_ = 'clearfix job-bx wht-shd-bx')\n",
    "for job in jobs:\n",
    "    #job_name = job.find('strong' , class_ = 'blkclor').text\n",
    "    company_name = job.find('h3', class_ = 'joblist-comp-name').text\n",
    "    Skills = job.find('span', class_ = 'srp-skills').text.replace(' ','')\n",
    "    updated = job.find('span',class_ = 'sim-posted').span.text\n",
    "    more_info = job.header.h2.a['href']\n",
    "\n",
    "\n",
    "    data = [[company_name,Skills,updated,more_info]]\n",
    "    df = pd.DataFrame(data,columns=[company_name,Skills,updated,more_info])\n",
    "    print(df)\n",
    "    #print(f\"Company Name:{company_name.strip()}\")\n",
    "    #print(f\"KeySkills: {Skills.strip()}\")\n",
    "    #print(f\"Published date: {updated.strip()}\")\n",
    "    #print(f\"More Information:{more_info}\\n\")"
   ]
  },
  {
   "cell_type": "code",
   "execution_count": 7,
   "id": "55e4e043-a805-4215-8ca1-cae708fbeeb0",
   "metadata": {},
   "outputs": [],
   "source": [
    "df.to_csv('newdata.csv')"
   ]
  },
  {
   "cell_type": "code",
   "execution_count": null,
   "id": "73907e16-c4dc-492d-b38b-718de79fa9e9",
   "metadata": {},
   "outputs": [],
   "source": []
  }
 ],
 "metadata": {
  "kernelspec": {
   "display_name": "Python 3 (ipykernel)",
   "language": "python",
   "name": "python3"
  },
  "language_info": {
   "codemirror_mode": {
    "name": "ipython",
    "version": 3
   },
   "file_extension": ".py",
   "mimetype": "text/x-python",
   "name": "python",
   "nbconvert_exporter": "python",
   "pygments_lexer": "ipython3",
   "version": "3.11.9"
  }
 },
 "nbformat": 4,
 "nbformat_minor": 5
}
